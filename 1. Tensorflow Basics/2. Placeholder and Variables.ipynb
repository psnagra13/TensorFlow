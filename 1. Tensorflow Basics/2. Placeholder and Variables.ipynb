{
 "cells": [
  {
   "cell_type": "markdown",
   "metadata": {},
   "source": [
    "# Placeholders and Variables\n",
    "\n",
    "### Variables\n",
    "Variables are the parameters of the algorithm and TensorFlow keeps track of how to change these to optimize the algorithm.\n",
    "\n",
    "### Placeholders \n",
    "Placeholders are objects that allow you to feed in data of a specific type and shape and depend on the results of the  computational graph, such as the expected outcome of a computation."
   ]
  },
  {
   "cell_type": "code",
   "execution_count": 1,
   "metadata": {},
   "outputs": [],
   "source": [
    "import numpy as np\n",
    "import tensorflow as tf"
   ]
  },
  {
   "cell_type": "markdown",
   "metadata": {},
   "source": [
    "## Variables\n",
    "\n",
    "variable is created by using the Variable() function, which takes a tensor as an input and outputs a variable."
   ]
  },
  {
   "cell_type": "code",
   "execution_count": 2,
   "metadata": {},
   "outputs": [],
   "source": [
    "variable = tf.Variable(tf.zeros([2,3]))  # This is just declaration. We need to initialize it \n",
    "\n",
    "# Initialization Step\n",
    "sess = tf.Session()\n",
    "initializer = tf.global_variables_initializer()\n",
    "sess.run(initializer)"
   ]
  },
  {
   "cell_type": "markdown",
   "metadata": {},
   "source": [
    "## Placeholders\n",
    "Placeholders just holds the position for data to be fed into the graph.\n",
    "\n",
    "They get data from feed_dict argument from the session.\n",
    "\n",
    "To put Placeholder into the graph, there should be atleast 1 operation on the placeholder."
   ]
  },
  {
   "cell_type": "code",
   "execution_count": 3,
   "metadata": {},
   "outputs": [
    {
     "data": {
      "text/plain": [
       "array([[0.29987323, 0.924419  , 0.8195961 , 0.7110375 , 0.41657856],\n",
       "       [0.28957528, 0.1476243 , 0.12896615, 0.07970262, 0.26196826],\n",
       "       [0.54961056, 0.82372636, 0.50293404, 0.08598401, 0.14331849],\n",
       "       [0.456328  , 0.6856749 , 0.15596445, 0.63588595, 0.8309398 ],\n",
       "       [0.12645544, 0.49232948, 0.17213139, 0.3578222 , 0.8346492 ]],\n",
       "      dtype=float32)"
      ]
     },
     "execution_count": 3,
     "metadata": {},
     "output_type": "execute_result"
    }
   ],
   "source": [
    "X_placeholder = tf.placeholder(tf.float32, shape= [5,5])\n",
    "y = tf.identity(X_placeholder)\n",
    "X_val = np.random.rand(5,5)\n",
    "# Initialization step\n",
    "sess = tf.Session()\n",
    "sess.run(y, feed_dict={X_placeholder: X_val})"
   ]
  },
  {
   "cell_type": "markdown",
   "metadata": {},
   "source": [
    "## If Not using global initializer\n",
    "we can initializer for each variable also"
   ]
  },
  {
   "cell_type": "code",
   "execution_count": 4,
   "metadata": {},
   "outputs": [],
   "source": [
    "sess = tf.Session()\n",
    "first_var = tf.Variable(tf.zeros([2,3]))\n",
    "sess.run(first_var.initializer)\n",
    "second_var = tf.Variable(tf.zeros_like(first_var))\n",
    "# Depends on first_var\n",
    "sess.run(second_var.initializer)"
   ]
  }
 ],
 "metadata": {
  "kernelspec": {
   "display_name": "Python 3",
   "language": "python",
   "name": "python3"
  },
  "language_info": {
   "codemirror_mode": {
    "name": "ipython",
    "version": 3
   },
   "file_extension": ".py",
   "mimetype": "text/x-python",
   "name": "python",
   "nbconvert_exporter": "python",
   "pygments_lexer": "ipython3",
   "version": "3.6.8"
  }
 },
 "nbformat": 4,
 "nbformat_minor": 2
}
